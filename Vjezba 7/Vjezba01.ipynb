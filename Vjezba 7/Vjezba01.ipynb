{
 "cells": [
  {
   "cell_type": "code",
   "execution_count": 10,
   "metadata": {},
   "outputs": [
    {
     "name": "stdout",
     "output_type": "stream",
     "text": [
      "Ovo se izvršava prije funkcije.\n",
      "Originalna funkcija.\n",
      "Ovo se izvšava poslije funkcije.\n"
     ]
    }
   ],
   "source": [
    "def jednostavan_dekorator(funkcija):\n",
    "    def omotac():\n",
    "        print(\"Ovo se izvršava prije funkcije.\")\n",
    "        funkcija()\n",
    "        print(\"Ovo se izvšava poslije funkcije.\")\n",
    "    return omotac\n",
    "\n",
    "@jednostavan_dekorator\n",
    "def moja_funkcija():\n",
    "    print(\"Originalna funkcija.\")\n",
    "\n",
    "moja_funkcija()\n"
   ]
  },
  {
   "cell_type": "code",
   "execution_count": 11,
   "metadata": {},
   "outputs": [
    {
     "name": "stdout",
     "output_type": "stream",
     "text": [
      "Originalna funkcija.\n"
     ]
    }
   ],
   "source": [
    "def jednostavan_dekorator(funkcija):\n",
    "    def omotac():\n",
    "        print(\"Ovo se izvršava prije funkcije.\")\n",
    "        funkcija()\n",
    "        print(\"Ovo se izvšava poslije funkcije.\")\n",
    "    return omotac\n",
    "\n",
    "#@jednostavan_dekorator\n",
    "def moja_funkcija():\n",
    "    print(\"Originalna funkcija.\")\n",
    "\n",
    "moja_funkcija()"
   ]
  },
  {
   "cell_type": "code",
   "execution_count": 17,
   "metadata": {},
   "outputs": [
    {
     "name": "stdout",
     "output_type": "stream",
     "text": [
      "Prvi dekorator\n",
      "Drugi dekorator\n",
      "Izvorna funkcija\n"
     ]
    }
   ],
   "source": [
    "def prvi(funkcija):\n",
    "    def omotac():\n",
    "        print(\"Prvi dekorator\")\n",
    "        funkcija()\n",
    "    return omotac\n",
    "\n",
    "def drugi(funkcija):\n",
    "    def omotac():\n",
    "        print(\"Drugi dekorator\")\n",
    "        funkcija()\n",
    "        \n",
    "    return omotac\n",
    "\n",
    "@prvi\n",
    "@drugi\n",
    "def test():\n",
    "    print(\"Izvorna funkcija\")\n",
    "\n",
    "test()"
   ]
  },
  {
   "cell_type": "code",
   "execution_count": 18,
   "metadata": {},
   "outputs": [
    {
     "name": "stdout",
     "output_type": "stream",
     "text": [
      "Prvi dekorator\n",
      "Izvorna funkcija\n"
     ]
    }
   ],
   "source": [
    "def prvi(funkcija):\n",
    "    def omotac():\n",
    "        print(\"Prvi dekorator\")\n",
    "        funkcija()\n",
    "    return omotac\n",
    "\n",
    "def drugi(funkcija):\n",
    "    def omotac():\n",
    "        print(\"Drugi dekorator\")\n",
    "        funkcija()\n",
    "        \n",
    "    return omotac\n",
    "\n",
    "@prvi\n",
    "#@drugi\n",
    "def test():\n",
    "    print(\"Izvorna funkcija\")\n",
    "\n",
    "test()"
   ]
  },
  {
   "cell_type": "code",
   "execution_count": 24,
   "metadata": {},
   "outputs": [
    {
     "data": {
      "text/plain": [
       "[1, 3, 5, 7, 9]"
      ]
     },
     "execution_count": 24,
     "metadata": {},
     "output_type": "execute_result"
    }
   ],
   "source": [
    "def neparni_dekorator(funkcija):\n",
    "    def omotac(parna_lista):\n",
    "        lista_n = []\n",
    "        for i in lista:\n",
    "            if i % 2 != 0:\n",
    "                lista_n.append(i)\n",
    "        return lista_n\n",
    "    return omotac\n",
    "   \n",
    "\n",
    "@neparni_dekorator\n",
    "def parna_lista(lista):\n",
    "    lista_p = []\n",
    "    for i in lista:\n",
    "        if i % 2 == 0:\n",
    "            lista_p.append(i)\n",
    "    return lista_p\n",
    "\n",
    "lista = [0,1,2,3,4,5,6,7,8,9]\n",
    "parna_lista(lista)\n",
    "\n",
    "\n",
    "\n"
   ]
  },
  {
   "cell_type": "code",
   "execution_count": 29,
   "metadata": {},
   "outputs": [
    {
     "name": "stdout",
     "output_type": "stream",
     "text": [
      "1\n",
      "2\n",
      "3\n"
     ]
    }
   ],
   "source": [
    "def count_up_to(n):\n",
    "    count = 1\n",
    "    while count <= n:\n",
    "        yield count\n",
    "        count +=1\n",
    "\n",
    "gen = count_up_to(3)\n",
    "\n",
    "print(next(gen))\n",
    "print(next(gen))\n",
    "print(next(gen))"
   ]
  },
  {
   "cell_type": "code",
   "execution_count": 34,
   "metadata": {},
   "outputs": [
    {
     "name": "stdout",
     "output_type": "stream",
     "text": [
      "[[0, 2, 4, 6, 8, 10, 12, 14, 16, 18]]\n"
     ]
    }
   ],
   "source": [
    "def parna_lista(n):\n",
    "    lista = []\n",
    "    for i in range(n):\n",
    "        if i % 2 == 0:\n",
    "            lista.append(i)\n",
    "    yield lista \n",
    "\n",
    "gen = parna_lista(20)\n",
    "print(list(gen))"
   ]
  },
  {
   "cell_type": "code",
   "execution_count": 41,
   "metadata": {},
   "outputs": [
    {
     "name": "stdout",
     "output_type": "stream",
     "text": [
      "[0, 2, 4, 6, 8, 10, 12, 14, 16, 18, 20]\n"
     ]
    }
   ],
   "source": [
    "def parna_lista(n):\n",
    "    for i in range(0,n+1,2):\n",
    "        yield i\n",
    "\n",
    "gen = parna_lista(20)\n",
    "print(list(gen))"
   ]
  },
  {
   "cell_type": "code",
   "execution_count": 47,
   "metadata": {},
   "outputs": [],
   "source": [
    "import multiprocessing as mp\n",
    "import time\n",
    "\n",
    "def posao():\n",
    "    print(\"Proces je pokrenut\")\n",
    "    time.sleep(2)\n",
    "    print(\"Proces završen\")\n",
    "\n",
    "if __name__ == '__main__':\n",
    "    p = mp.Process(target=posao)\n",
    "    p.start()\n",
    "    p.join()"
   ]
  },
  {
   "cell_type": "code",
   "execution_count": null,
   "metadata": {},
   "outputs": [],
   "source": []
  },
  {
   "cell_type": "code",
   "execution_count": null,
   "metadata": {},
   "outputs": [],
   "source": []
  }
 ],
 "metadata": {
  "kernelspec": {
   "display_name": "Python 3",
   "language": "python",
   "name": "python3"
  },
  "language_info": {
   "codemirror_mode": {
    "name": "ipython",
    "version": 3
   },
   "file_extension": ".py",
   "mimetype": "text/x-python",
   "name": "python",
   "nbconvert_exporter": "python",
   "pygments_lexer": "ipython3",
   "version": "3.13.0"
  }
 },
 "nbformat": 4,
 "nbformat_minor": 2
}
