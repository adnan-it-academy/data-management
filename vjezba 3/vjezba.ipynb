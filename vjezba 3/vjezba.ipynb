{
 "cells": [
  {
   "cell_type": "code",
   "execution_count": 31,
   "metadata": {},
   "outputs": [],
   "source": [
    "import pandas as pd"
   ]
  },
  {
   "cell_type": "markdown",
   "metadata": {},
   "source": [
    "Učitati dataset"
   ]
  },
  {
   "cell_type": "code",
   "execution_count": 32,
   "metadata": {},
   "outputs": [],
   "source": [
    "df = pd.read_csv(\"bmw_pricing_challenge.csv\")"
   ]
  },
  {
   "cell_type": "markdown",
   "metadata": {},
   "source": [
    "Prikazati prvih 5 redova dataseta"
   ]
  },
  {
   "cell_type": "code",
   "execution_count": 33,
   "metadata": {},
   "outputs": [
    {
     "name": "stdout",
     "output_type": "stream",
     "text": [
      "  maker_key model_key  mileage  engine_power registration_date    fuel  \\\n",
      "0       BMW       118   140411           100        2012-02-01  diesel   \n",
      "1       BMW        M4    13929           317        2016-04-01  petrol   \n",
      "2       BMW       320   183297           120        2012-04-01  diesel   \n",
      "3       BMW       420   128035           135        2014-07-01  diesel   \n",
      "4       BMW       425    97097           160        2014-12-01  diesel   \n",
      "\n",
      "  paint_color     car_type  feature_1  feature_2  feature_3  feature_4  \\\n",
      "0       black  convertible       True       True      False      False   \n",
      "1        grey  convertible       True       True      False      False   \n",
      "2       white  convertible      False      False      False      False   \n",
      "3         red  convertible       True       True      False      False   \n",
      "4      silver  convertible       True       True      False      False   \n",
      "\n",
      "   feature_5  feature_6  feature_7  feature_8  price     sold_at  \n",
      "0       True       True       True      False  11300  2018-01-01  \n",
      "1      False       True       True       True  69700  2018-02-01  \n",
      "2       True      False       True      False  10200  2018-02-01  \n",
      "3       True       True       True       True  25100  2018-02-01  \n",
      "4      False       True       True       True  33400  2018-04-01  \n"
     ]
    }
   ],
   "source": [
    "print(df.head())\n"
   ]
  },
  {
   "cell_type": "markdown",
   "metadata": {},
   "source": [
    "Pomoću metode info() dobiti osnovne karaktersitike dataseta"
   ]
  },
  {
   "cell_type": "code",
   "execution_count": 34,
   "metadata": {},
   "outputs": [
    {
     "name": "stdout",
     "output_type": "stream",
     "text": [
      "<class 'pandas.core.frame.DataFrame'>\n",
      "RangeIndex: 4843 entries, 0 to 4842\n",
      "Data columns (total 18 columns):\n",
      " #   Column             Non-Null Count  Dtype \n",
      "---  ------             --------------  ----- \n",
      " 0   maker_key          4843 non-null   object\n",
      " 1   model_key          4843 non-null   object\n",
      " 2   mileage            4843 non-null   int64 \n",
      " 3   engine_power       4843 non-null   int64 \n",
      " 4   registration_date  4843 non-null   object\n",
      " 5   fuel               4843 non-null   object\n",
      " 6   paint_color        4843 non-null   object\n",
      " 7   car_type           4843 non-null   object\n",
      " 8   feature_1          4843 non-null   bool  \n",
      " 9   feature_2          4843 non-null   bool  \n",
      " 10  feature_3          4843 non-null   bool  \n",
      " 11  feature_4          4843 non-null   bool  \n",
      " 12  feature_5          4843 non-null   bool  \n",
      " 13  feature_6          4843 non-null   bool  \n",
      " 14  feature_7          4843 non-null   bool  \n",
      " 15  feature_8          4843 non-null   bool  \n",
      " 16  price              4843 non-null   int64 \n",
      " 17  sold_at            4843 non-null   object\n",
      "dtypes: bool(8), int64(3), object(7)\n",
      "memory usage: 416.3+ KB\n"
     ]
    }
   ],
   "source": [
    "df.info()\n"
   ]
  },
  {
   "cell_type": "markdown",
   "metadata": {},
   "source": [
    "Naći jedinstvene vrijednosti za kolonu model_key"
   ]
  },
  {
   "cell_type": "code",
   "execution_count": 35,
   "metadata": {},
   "outputs": [
    {
     "data": {
      "text/plain": [
       "array(['118', 'M4', '320', '420', '425', '335', '325', 'Z4', '120', '220',\n",
       "       '650', '135', '218', '318', '430', 'M3', '330', '225', 'M235',\n",
       "       '316', '435', '640', '640 Gran Coupé', '435 Gran Coupé', 'i8',\n",
       "       '630', '430 Gran Coupé', '635', '520', '525', '530', '535',\n",
       "       '320 Gran Turismo', '518', '116', '328', '523', 'X3', 'M550',\n",
       "       '528', '325 Gran Turismo', '125', '318 Gran Turismo',\n",
       "       '420 Gran Coupé', 'i3', '114', '520 Gran Turismo',\n",
       "       '530 Gran Turismo', 'M135', '418 Gran Coupé', '330 Gran Turismo',\n",
       "       '335 Gran Turismo', '730', '123', '535 Gran Turismo', '740', '750',\n",
       "       'ActiveHybrid 5', '735', 'M5', 'X5', 'X1', 'X4', 'X6', 'X6 M',\n",
       "       'X5 M', 'X5 M50', '218 Active Tourer', '218 Gran Tourer', '216',\n",
       "       '220 Active Tourer', '216 Gran Tourer', '216 Active Tourer',\n",
       "       '225 Active Tourer', '214 Gran Tourer'], dtype=object)"
      ]
     },
     "execution_count": 35,
     "metadata": {},
     "output_type": "execute_result"
    }
   ],
   "source": [
    "df['model_key'].unique()\n",
    "\n"
   ]
  },
  {
   "cell_type": "markdown",
   "metadata": {},
   "source": [
    "Za svaku vrijednost u model_key pogledati koliko se puta ponavljaju"
   ]
  },
  {
   "cell_type": "code",
   "execution_count": 36,
   "metadata": {},
   "outputs": [
    {
     "data": {
      "text/plain": [
       "model_key\n",
       "320                  752\n",
       "520                  633\n",
       "318                  569\n",
       "X3                   438\n",
       "116                  358\n",
       "                    ... \n",
       "M5                     1\n",
       "220 Active Tourer      1\n",
       "216                    1\n",
       "225 Active Tourer      1\n",
       "214 Gran Tourer        1\n",
       "Name: count, Length: 75, dtype: int64"
      ]
     },
     "execution_count": 36,
     "metadata": {},
     "output_type": "execute_result"
    }
   ],
   "source": [
    "df['model_key'].value_counts()\n",
    "\n"
   ]
  },
  {
   "cell_type": "markdown",
   "metadata": {},
   "source": [
    "Odbaciti nepotrebne kolone"
   ]
  },
  {
   "cell_type": "code",
   "execution_count": 37,
   "metadata": {},
   "outputs": [
    {
     "data": {
      "text/plain": [
       "Index(['maker_key', 'model_key', 'mileage', 'engine_power',\n",
       "       'registration_date', 'fuel', 'paint_color', 'car_type', 'feature_1',\n",
       "       'feature_2', 'feature_3', 'feature_4', 'feature_5', 'feature_6',\n",
       "       'feature_7', 'feature_8', 'price', 'sold_at'],\n",
       "      dtype='object')"
      ]
     },
     "execution_count": 37,
     "metadata": {},
     "output_type": "execute_result"
    }
   ],
   "source": [
    "df.columns"
   ]
  },
  {
   "cell_type": "code",
   "execution_count": 27,
   "metadata": {},
   "outputs": [
    {
     "ename": "AttributeError",
     "evalue": "'NoneType' object has no attribute 'drop'",
     "output_type": "error",
     "traceback": [
      "\u001b[1;31m---------------------------------------------------------------------------\u001b[0m",
      "\u001b[1;31mAttributeError\u001b[0m                            Traceback (most recent call last)",
      "Cell \u001b[1;32mIn[27], line 1\u001b[0m\n\u001b[1;32m----> 1\u001b[0m df \u001b[38;5;241m=\u001b[39m \u001b[43mdf\u001b[49m\u001b[38;5;241;43m.\u001b[39;49m\u001b[43mdrop\u001b[49m(columns\u001b[38;5;241m=\u001b[39m[\u001b[38;5;124m'\u001b[39m\u001b[38;5;124mfeature_1\u001b[39m\u001b[38;5;124m'\u001b[39m, \u001b[38;5;124m'\u001b[39m\u001b[38;5;124mfeature_2\u001b[39m\u001b[38;5;124m'\u001b[39m, \u001b[38;5;124m'\u001b[39m\u001b[38;5;124mfeature_3\u001b[39m\u001b[38;5;124m'\u001b[39m, \u001b[38;5;124m'\u001b[39m\u001b[38;5;124mfeature_4\u001b[39m\u001b[38;5;124m'\u001b[39m, \u001b[38;5;124m'\u001b[39m\u001b[38;5;124mfeature_5\u001b[39m\u001b[38;5;124m'\u001b[39m, \u001b[38;5;124m'\u001b[39m\u001b[38;5;124mfeature_6\u001b[39m\u001b[38;5;124m'\u001b[39m,\u001b[38;5;124m'\u001b[39m\u001b[38;5;124mfeature_7\u001b[39m\u001b[38;5;124m'\u001b[39m, \u001b[38;5;124m'\u001b[39m\u001b[38;5;124mfeature_8\u001b[39m\u001b[38;5;124m'\u001b[39m], inplace\u001b[38;5;241m=\u001b[39m\u001b[38;5;28;01mTrue\u001b[39;00m)\n",
      "\u001b[1;31mAttributeError\u001b[0m: 'NoneType' object has no attribute 'drop'"
     ]
    }
   ],
   "source": [
    "df = df.drop(columns=['feature_1', 'feature_2', 'feature_3', 'feature_4', 'feature_5', 'feature_6','feature_7', 'feature_8'], inplace=True)"
   ]
  },
  {
   "cell_type": "markdown",
   "metadata": {},
   "source": [
    "Pronaći vozilo sa najnižom cijenom"
   ]
  },
  {
   "cell_type": "code",
   "execution_count": 38,
   "metadata": {},
   "outputs": [
    {
     "data": {
      "text/plain": [
       "565"
      ]
     },
     "execution_count": 38,
     "metadata": {},
     "output_type": "execute_result"
    }
   ],
   "source": [
    "df[\"price\"].idxmin()"
   ]
  },
  {
   "cell_type": "markdown",
   "metadata": {},
   "source": [
    "Pronaći vozilo sa najvećom cijenom"
   ]
  },
  {
   "cell_type": "code",
   "execution_count": 39,
   "metadata": {},
   "outputs": [
    {
     "data": {
      "text/plain": [
       "4753"
      ]
     },
     "execution_count": 39,
     "metadata": {},
     "output_type": "execute_result"
    }
   ],
   "source": [
    "df[\"price\"].idxmax()"
   ]
  },
  {
   "attachments": {},
   "cell_type": "markdown",
   "metadata": {},
   "source": [
    "Napraviti funkciju koja će se primjeniti na kolonu price i konvertovati u BAM(KM)"
   ]
  },
  {
   "cell_type": "code",
   "execution_count": 40,
   "metadata": {},
   "outputs": [],
   "source": [
    "def konverzija(x):\n",
    "    return x*1.9558\n",
    "\n",
    "df[\"price\"] = df[\"price\"].apply(konverzija)"
   ]
  },
  {
   "cell_type": "markdown",
   "metadata": {},
   "source": [
    "Naći osnovne statističke karakteristike dataseta"
   ]
  },
  {
   "cell_type": "code",
   "execution_count": 42,
   "metadata": {},
   "outputs": [
    {
     "data": {
      "text/html": [
       "<div>\n",
       "<style scoped>\n",
       "    .dataframe tbody tr th:only-of-type {\n",
       "        vertical-align: middle;\n",
       "    }\n",
       "\n",
       "    .dataframe tbody tr th {\n",
       "        vertical-align: top;\n",
       "    }\n",
       "\n",
       "    .dataframe thead th {\n",
       "        text-align: right;\n",
       "    }\n",
       "</style>\n",
       "<table border=\"1\" class=\"dataframe\">\n",
       "  <thead>\n",
       "    <tr style=\"text-align: right;\">\n",
       "      <th></th>\n",
       "      <th>mileage</th>\n",
       "      <th>engine_power</th>\n",
       "      <th>price</th>\n",
       "    </tr>\n",
       "  </thead>\n",
       "  <tbody>\n",
       "    <tr>\n",
       "      <th>count</th>\n",
       "      <td>4.843000e+03</td>\n",
       "      <td>4843.00000</td>\n",
       "      <td>4843.000000</td>\n",
       "    </tr>\n",
       "    <tr>\n",
       "      <th>mean</th>\n",
       "      <td>1.409628e+05</td>\n",
       "      <td>128.98823</td>\n",
       "      <td>30956.562321</td>\n",
       "    </tr>\n",
       "    <tr>\n",
       "      <th>std</th>\n",
       "      <td>6.019674e+04</td>\n",
       "      <td>38.99336</td>\n",
       "      <td>18033.034740</td>\n",
       "    </tr>\n",
       "    <tr>\n",
       "      <th>min</th>\n",
       "      <td>-6.400000e+01</td>\n",
       "      <td>0.00000</td>\n",
       "      <td>195.580000</td>\n",
       "    </tr>\n",
       "    <tr>\n",
       "      <th>25%</th>\n",
       "      <td>1.029135e+05</td>\n",
       "      <td>100.00000</td>\n",
       "      <td>21122.640000</td>\n",
       "    </tr>\n",
       "    <tr>\n",
       "      <th>50%</th>\n",
       "      <td>1.410800e+05</td>\n",
       "      <td>120.00000</td>\n",
       "      <td>27772.360000</td>\n",
       "    </tr>\n",
       "    <tr>\n",
       "      <th>75%</th>\n",
       "      <td>1.751955e+05</td>\n",
       "      <td>135.00000</td>\n",
       "      <td>36377.880000</td>\n",
       "    </tr>\n",
       "    <tr>\n",
       "      <th>max</th>\n",
       "      <td>1.000376e+06</td>\n",
       "      <td>423.00000</td>\n",
       "      <td>349110.300000</td>\n",
       "    </tr>\n",
       "  </tbody>\n",
       "</table>\n",
       "</div>"
      ],
      "text/plain": [
       "            mileage  engine_power          price\n",
       "count  4.843000e+03    4843.00000    4843.000000\n",
       "mean   1.409628e+05     128.98823   30956.562321\n",
       "std    6.019674e+04      38.99336   18033.034740\n",
       "min   -6.400000e+01       0.00000     195.580000\n",
       "25%    1.029135e+05     100.00000   21122.640000\n",
       "50%    1.410800e+05     120.00000   27772.360000\n",
       "75%    1.751955e+05     135.00000   36377.880000\n",
       "max    1.000376e+06     423.00000  349110.300000"
      ]
     },
     "execution_count": 42,
     "metadata": {},
     "output_type": "execute_result"
    }
   ],
   "source": [
    "df.describe()"
   ]
  },
  {
   "cell_type": "markdown",
   "metadata": {},
   "source": [
    "Provjeriti da li postoje čudne vrijednosti u koloni mileage?"
   ]
  },
  {
   "cell_type": "code",
   "execution_count": 43,
   "metadata": {},
   "outputs": [
    {
     "data": {
      "text/plain": [
       "3765"
      ]
     },
     "execution_count": 43,
     "metadata": {},
     "output_type": "execute_result"
    }
   ],
   "source": [
    "df[\"engine_power\"].idxmin()"
   ]
  },
  {
   "cell_type": "markdown",
   "metadata": {},
   "source": []
  },
  {
   "cell_type": "code",
   "execution_count": 46,
   "metadata": {},
   "outputs": [
    {
     "data": {
      "text/html": [
       "<div>\n",
       "<style scoped>\n",
       "    .dataframe tbody tr th:only-of-type {\n",
       "        vertical-align: middle;\n",
       "    }\n",
       "\n",
       "    .dataframe tbody tr th {\n",
       "        vertical-align: top;\n",
       "    }\n",
       "\n",
       "    .dataframe thead th {\n",
       "        text-align: right;\n",
       "    }\n",
       "</style>\n",
       "<table border=\"1\" class=\"dataframe\">\n",
       "  <thead>\n",
       "    <tr style=\"text-align: right;\">\n",
       "      <th></th>\n",
       "      <th>maker_key</th>\n",
       "      <th>model_key</th>\n",
       "      <th>mileage</th>\n",
       "      <th>engine_power</th>\n",
       "      <th>registration_date</th>\n",
       "      <th>fuel</th>\n",
       "      <th>paint_color</th>\n",
       "      <th>car_type</th>\n",
       "      <th>feature_1</th>\n",
       "      <th>feature_2</th>\n",
       "      <th>feature_3</th>\n",
       "      <th>feature_4</th>\n",
       "      <th>feature_5</th>\n",
       "      <th>feature_6</th>\n",
       "      <th>feature_7</th>\n",
       "      <th>feature_8</th>\n",
       "      <th>price</th>\n",
       "      <th>sold_at</th>\n",
       "    </tr>\n",
       "  </thead>\n",
       "  <tbody>\n",
       "    <tr>\n",
       "      <th>2938</th>\n",
       "      <td>BMW</td>\n",
       "      <td>640 Gran Coupé</td>\n",
       "      <td>-64</td>\n",
       "      <td>230</td>\n",
       "      <td>2017-03-01</td>\n",
       "      <td>diesel</td>\n",
       "      <td>black</td>\n",
       "      <td>sedan</td>\n",
       "      <td>True</td>\n",
       "      <td>True</td>\n",
       "      <td>False</td>\n",
       "      <td>True</td>\n",
       "      <td>False</td>\n",
       "      <td>False</td>\n",
       "      <td>True</td>\n",
       "      <td>True</td>\n",
       "      <td>146685.0</td>\n",
       "      <td>2018-04-01</td>\n",
       "    </tr>\n",
       "  </tbody>\n",
       "</table>\n",
       "</div>"
      ],
      "text/plain": [
       "     maker_key       model_key  mileage  engine_power registration_date  \\\n",
       "2938       BMW  640 Gran Coupé      -64           230        2017-03-01   \n",
       "\n",
       "        fuel paint_color car_type  feature_1  feature_2  feature_3  feature_4  \\\n",
       "2938  diesel       black    sedan       True       True      False       True   \n",
       "\n",
       "      feature_5  feature_6  feature_7  feature_8     price     sold_at  \n",
       "2938      False      False       True       True  146685.0  2018-04-01  "
      ]
     },
     "execution_count": 46,
     "metadata": {},
     "output_type": "execute_result"
    }
   ],
   "source": [
    "df[df[\"mileage\"]<0]"
   ]
  },
  {
   "cell_type": "code",
   "execution_count": 51,
   "metadata": {},
   "outputs": [
    {
     "data": {
      "text/html": [
       "<div>\n",
       "<style scoped>\n",
       "    .dataframe tbody tr th:only-of-type {\n",
       "        vertical-align: middle;\n",
       "    }\n",
       "\n",
       "    .dataframe tbody tr th {\n",
       "        vertical-align: top;\n",
       "    }\n",
       "\n",
       "    .dataframe thead th {\n",
       "        text-align: right;\n",
       "    }\n",
       "</style>\n",
       "<table border=\"1\" class=\"dataframe\">\n",
       "  <thead>\n",
       "    <tr style=\"text-align: right;\">\n",
       "      <th></th>\n",
       "      <th>maker_key</th>\n",
       "      <th>model_key</th>\n",
       "      <th>mileage</th>\n",
       "      <th>engine_power</th>\n",
       "      <th>registration_date</th>\n",
       "      <th>fuel</th>\n",
       "      <th>paint_color</th>\n",
       "      <th>car_type</th>\n",
       "      <th>feature_1</th>\n",
       "      <th>feature_2</th>\n",
       "      <th>feature_3</th>\n",
       "      <th>feature_4</th>\n",
       "      <th>feature_5</th>\n",
       "      <th>feature_6</th>\n",
       "      <th>feature_7</th>\n",
       "      <th>feature_8</th>\n",
       "      <th>price</th>\n",
       "      <th>sold_at</th>\n",
       "    </tr>\n",
       "  </thead>\n",
       "  <tbody>\n",
       "    <tr>\n",
       "      <th>3765</th>\n",
       "      <td>BMW</td>\n",
       "      <td>X1</td>\n",
       "      <td>81770</td>\n",
       "      <td>0</td>\n",
       "      <td>2014-10-01</td>\n",
       "      <td>diesel</td>\n",
       "      <td>white</td>\n",
       "      <td>suv</td>\n",
       "      <td>False</td>\n",
       "      <td>False</td>\n",
       "      <td>False</td>\n",
       "      <td>False</td>\n",
       "      <td>False</td>\n",
       "      <td>False</td>\n",
       "      <td>False</td>\n",
       "      <td>False</td>\n",
       "      <td>22882.86</td>\n",
       "      <td>2018-03-01</td>\n",
       "    </tr>\n",
       "  </tbody>\n",
       "</table>\n",
       "</div>"
      ],
      "text/plain": [
       "     maker_key model_key  mileage  engine_power registration_date    fuel  \\\n",
       "3765       BMW        X1    81770             0        2014-10-01  diesel   \n",
       "\n",
       "     paint_color car_type  feature_1  feature_2  feature_3  feature_4  \\\n",
       "3765       white      suv      False      False      False      False   \n",
       "\n",
       "      feature_5  feature_6  feature_7  feature_8     price     sold_at  \n",
       "3765      False      False      False      False  22882.86  2018-03-01  "
      ]
     },
     "execution_count": 51,
     "metadata": {},
     "output_type": "execute_result"
    }
   ],
   "source": [
    "df[df[\"engine_power\"]<1]"
   ]
  },
  {
   "cell_type": "code",
   "execution_count": 52,
   "metadata": {},
   "outputs": [
    {
     "data": {
      "text/html": [
       "<div>\n",
       "<style scoped>\n",
       "    .dataframe tbody tr th:only-of-type {\n",
       "        vertical-align: middle;\n",
       "    }\n",
       "\n",
       "    .dataframe tbody tr th {\n",
       "        vertical-align: top;\n",
       "    }\n",
       "\n",
       "    .dataframe thead th {\n",
       "        text-align: right;\n",
       "    }\n",
       "</style>\n",
       "<table border=\"1\" class=\"dataframe\">\n",
       "  <thead>\n",
       "    <tr style=\"text-align: right;\">\n",
       "      <th></th>\n",
       "      <th>maker_key</th>\n",
       "      <th>model_key</th>\n",
       "      <th>mileage</th>\n",
       "      <th>engine_power</th>\n",
       "      <th>registration_date</th>\n",
       "      <th>fuel</th>\n",
       "      <th>paint_color</th>\n",
       "      <th>car_type</th>\n",
       "      <th>feature_1</th>\n",
       "      <th>feature_2</th>\n",
       "      <th>feature_3</th>\n",
       "      <th>feature_4</th>\n",
       "      <th>feature_5</th>\n",
       "      <th>feature_6</th>\n",
       "      <th>feature_7</th>\n",
       "      <th>feature_8</th>\n",
       "      <th>price</th>\n",
       "      <th>sold_at</th>\n",
       "    </tr>\n",
       "  </thead>\n",
       "  <tbody>\n",
       "    <tr>\n",
       "      <th>565</th>\n",
       "      <td>BMW</td>\n",
       "      <td>320</td>\n",
       "      <td>179358</td>\n",
       "      <td>120</td>\n",
       "      <td>2013-06-01</td>\n",
       "      <td>diesel</td>\n",
       "      <td>black</td>\n",
       "      <td>estate</td>\n",
       "      <td>False</td>\n",
       "      <td>True</td>\n",
       "      <td>False</td>\n",
       "      <td>False</td>\n",
       "      <td>False</td>\n",
       "      <td>False</td>\n",
       "      <td>True</td>\n",
       "      <td>True</td>\n",
       "      <td>195.58</td>\n",
       "      <td>2018-03-01</td>\n",
       "    </tr>\n",
       "    <tr>\n",
       "      <th>630</th>\n",
       "      <td>BMW</td>\n",
       "      <td>318</td>\n",
       "      <td>147558</td>\n",
       "      <td>105</td>\n",
       "      <td>2014-11-01</td>\n",
       "      <td>diesel</td>\n",
       "      <td>white</td>\n",
       "      <td>estate</td>\n",
       "      <td>False</td>\n",
       "      <td>True</td>\n",
       "      <td>False</td>\n",
       "      <td>False</td>\n",
       "      <td>False</td>\n",
       "      <td>False</td>\n",
       "      <td>False</td>\n",
       "      <td>True</td>\n",
       "      <td>195.58</td>\n",
       "      <td>2018-03-01</td>\n",
       "    </tr>\n",
       "    <tr>\n",
       "      <th>879</th>\n",
       "      <td>BMW</td>\n",
       "      <td>318</td>\n",
       "      <td>134156</td>\n",
       "      <td>105</td>\n",
       "      <td>2014-06-01</td>\n",
       "      <td>diesel</td>\n",
       "      <td>grey</td>\n",
       "      <td>estate</td>\n",
       "      <td>False</td>\n",
       "      <td>True</td>\n",
       "      <td>False</td>\n",
       "      <td>False</td>\n",
       "      <td>False</td>\n",
       "      <td>False</td>\n",
       "      <td>False</td>\n",
       "      <td>True</td>\n",
       "      <td>195.58</td>\n",
       "      <td>2018-04-01</td>\n",
       "    </tr>\n",
       "    <tr>\n",
       "      <th>1255</th>\n",
       "      <td>BMW</td>\n",
       "      <td>320</td>\n",
       "      <td>170381</td>\n",
       "      <td>135</td>\n",
       "      <td>2013-07-01</td>\n",
       "      <td>diesel</td>\n",
       "      <td>silver</td>\n",
       "      <td>estate</td>\n",
       "      <td>True</td>\n",
       "      <td>True</td>\n",
       "      <td>False</td>\n",
       "      <td>False</td>\n",
       "      <td>False</td>\n",
       "      <td>False</td>\n",
       "      <td>True</td>\n",
       "      <td>False</td>\n",
       "      <td>195.58</td>\n",
       "      <td>2018-05-01</td>\n",
       "    </tr>\n",
       "    <tr>\n",
       "      <th>1832</th>\n",
       "      <td>BMW</td>\n",
       "      <td>116</td>\n",
       "      <td>174524</td>\n",
       "      <td>85</td>\n",
       "      <td>2014-07-01</td>\n",
       "      <td>diesel</td>\n",
       "      <td>blue</td>\n",
       "      <td>hatchback</td>\n",
       "      <td>False</td>\n",
       "      <td>True</td>\n",
       "      <td>False</td>\n",
       "      <td>False</td>\n",
       "      <td>False</td>\n",
       "      <td>False</td>\n",
       "      <td>True</td>\n",
       "      <td>True</td>\n",
       "      <td>195.58</td>\n",
       "      <td>2018-03-01</td>\n",
       "    </tr>\n",
       "    <tr>\n",
       "      <th>2829</th>\n",
       "      <td>BMW</td>\n",
       "      <td>525</td>\n",
       "      <td>439060</td>\n",
       "      <td>105</td>\n",
       "      <td>1996-10-01</td>\n",
       "      <td>diesel</td>\n",
       "      <td>silver</td>\n",
       "      <td>sedan</td>\n",
       "      <td>False</td>\n",
       "      <td>False</td>\n",
       "      <td>True</td>\n",
       "      <td>False</td>\n",
       "      <td>False</td>\n",
       "      <td>False</td>\n",
       "      <td>True</td>\n",
       "      <td>False</td>\n",
       "      <td>195.58</td>\n",
       "      <td>2018-03-01</td>\n",
       "    </tr>\n",
       "    <tr>\n",
       "      <th>4356</th>\n",
       "      <td>BMW</td>\n",
       "      <td>X3</td>\n",
       "      <td>79685</td>\n",
       "      <td>190</td>\n",
       "      <td>2014-02-01</td>\n",
       "      <td>diesel</td>\n",
       "      <td>black</td>\n",
       "      <td>suv</td>\n",
       "      <td>False</td>\n",
       "      <td>False</td>\n",
       "      <td>False</td>\n",
       "      <td>False</td>\n",
       "      <td>False</td>\n",
       "      <td>False</td>\n",
       "      <td>False</td>\n",
       "      <td>True</td>\n",
       "      <td>195.58</td>\n",
       "      <td>2018-05-01</td>\n",
       "    </tr>\n",
       "  </tbody>\n",
       "</table>\n",
       "</div>"
      ],
      "text/plain": [
       "     maker_key model_key  mileage  engine_power registration_date    fuel  \\\n",
       "565        BMW       320   179358           120        2013-06-01  diesel   \n",
       "630        BMW       318   147558           105        2014-11-01  diesel   \n",
       "879        BMW       318   134156           105        2014-06-01  diesel   \n",
       "1255       BMW       320   170381           135        2013-07-01  diesel   \n",
       "1832       BMW       116   174524            85        2014-07-01  diesel   \n",
       "2829       BMW       525   439060           105        1996-10-01  diesel   \n",
       "4356       BMW        X3    79685           190        2014-02-01  diesel   \n",
       "\n",
       "     paint_color   car_type  feature_1  feature_2  feature_3  feature_4  \\\n",
       "565        black     estate      False       True      False      False   \n",
       "630        white     estate      False       True      False      False   \n",
       "879         grey     estate      False       True      False      False   \n",
       "1255      silver     estate       True       True      False      False   \n",
       "1832        blue  hatchback      False       True      False      False   \n",
       "2829      silver      sedan      False      False       True      False   \n",
       "4356       black        suv      False      False      False      False   \n",
       "\n",
       "      feature_5  feature_6  feature_7  feature_8   price     sold_at  \n",
       "565       False      False       True       True  195.58  2018-03-01  \n",
       "630       False      False      False       True  195.58  2018-03-01  \n",
       "879       False      False      False       True  195.58  2018-04-01  \n",
       "1255      False      False       True      False  195.58  2018-05-01  \n",
       "1832      False      False       True       True  195.58  2018-03-01  \n",
       "2829      False      False       True      False  195.58  2018-03-01  \n",
       "4356      False      False      False       True  195.58  2018-05-01  "
      ]
     },
     "execution_count": 52,
     "metadata": {},
     "output_type": "execute_result"
    }
   ],
   "source": [
    "df[df[\"price\"]<200]"
   ]
  },
  {
   "cell_type": "markdown",
   "metadata": {},
   "source": [
    "Ukoliko postoje nelogične/čudne vrijednosti, dropati taj red/redove"
   ]
  },
  {
   "cell_type": "code",
   "execution_count": 53,
   "metadata": {},
   "outputs": [],
   "source": [
    "df.drop([3765, 2938, 565, 630, 879, 1255, 1832, 2829, 4356], inplace= True)"
   ]
  },
  {
   "cell_type": "code",
   "execution_count": null,
   "metadata": {},
   "outputs": [],
   "source": []
  },
  {
   "cell_type": "code",
   "execution_count": null,
   "metadata": {},
   "outputs": [],
   "source": []
  },
  {
   "attachments": {},
   "cell_type": "markdown",
   "metadata": {},
   "source": [
    "Pretvoriti milje u kilometre u koloni mileage"
   ]
  },
  {
   "cell_type": "code",
   "execution_count": 54,
   "metadata": {},
   "outputs": [],
   "source": [
    "def miles_to_km(x):\n",
    "    return x*1.609\n",
    "df['mileage'] = df['mileage'].apply(miles_to_km)"
   ]
  },
  {
   "cell_type": "code",
   "execution_count": null,
   "metadata": {},
   "outputs": [],
   "source": []
  },
  {
   "attachments": {},
   "cell_type": "markdown",
   "metadata": {},
   "source": [
    "Naći korelaciju kolona koje su numeričkog tipa: mileage, engine_power i pricea"
   ]
  },
  {
   "cell_type": "code",
   "execution_count": 57,
   "metadata": {},
   "outputs": [],
   "source": [
    "df_corr = df[['mileage', 'engine_power', 'price']]\n",
    "\n"
   ]
  },
  {
   "cell_type": "code",
   "execution_count": 58,
   "metadata": {},
   "outputs": [
    {
     "data": {
      "text/html": [
       "<div>\n",
       "<style scoped>\n",
       "    .dataframe tbody tr th:only-of-type {\n",
       "        vertical-align: middle;\n",
       "    }\n",
       "\n",
       "    .dataframe tbody tr th {\n",
       "        vertical-align: top;\n",
       "    }\n",
       "\n",
       "    .dataframe thead th {\n",
       "        text-align: right;\n",
       "    }\n",
       "</style>\n",
       "<table border=\"1\" class=\"dataframe\">\n",
       "  <thead>\n",
       "    <tr style=\"text-align: right;\">\n",
       "      <th></th>\n",
       "      <th>mileage</th>\n",
       "      <th>engine_power</th>\n",
       "      <th>price</th>\n",
       "    </tr>\n",
       "  </thead>\n",
       "  <tbody>\n",
       "    <tr>\n",
       "      <th>mileage</th>\n",
       "      <td>1.000000</td>\n",
       "      <td>-0.048712</td>\n",
       "      <td>-0.408571</td>\n",
       "    </tr>\n",
       "    <tr>\n",
       "      <th>engine_power</th>\n",
       "      <td>-0.048712</td>\n",
       "      <td>1.000000</td>\n",
       "      <td>0.640308</td>\n",
       "    </tr>\n",
       "    <tr>\n",
       "      <th>price</th>\n",
       "      <td>-0.408571</td>\n",
       "      <td>0.640308</td>\n",
       "      <td>1.000000</td>\n",
       "    </tr>\n",
       "  </tbody>\n",
       "</table>\n",
       "</div>"
      ],
      "text/plain": [
       "               mileage  engine_power     price\n",
       "mileage       1.000000     -0.048712 -0.408571\n",
       "engine_power -0.048712      1.000000  0.640308\n",
       "price        -0.408571      0.640308  1.000000"
      ]
     },
     "execution_count": 58,
     "metadata": {},
     "output_type": "execute_result"
    }
   ],
   "source": [
    "df_corr.corr()"
   ]
  },
  {
   "attachments": {},
   "cell_type": "markdown",
   "metadata": {},
   "source": [
    "Dropati sve NaN podatke, te vidjeti koliki je broj kolona i redova prije i poslije dropanja"
   ]
  },
  {
   "cell_type": "code",
   "execution_count": 59,
   "metadata": {},
   "outputs": [
    {
     "data": {
      "text/plain": [
       "(4834, 18)"
      ]
     },
     "execution_count": 59,
     "metadata": {},
     "output_type": "execute_result"
    }
   ],
   "source": [
    "df.shape"
   ]
  },
  {
   "cell_type": "code",
   "execution_count": 60,
   "metadata": {},
   "outputs": [
    {
     "data": {
      "text/html": [
       "<div>\n",
       "<style scoped>\n",
       "    .dataframe tbody tr th:only-of-type {\n",
       "        vertical-align: middle;\n",
       "    }\n",
       "\n",
       "    .dataframe tbody tr th {\n",
       "        vertical-align: top;\n",
       "    }\n",
       "\n",
       "    .dataframe thead th {\n",
       "        text-align: right;\n",
       "    }\n",
       "</style>\n",
       "<table border=\"1\" class=\"dataframe\">\n",
       "  <thead>\n",
       "    <tr style=\"text-align: right;\">\n",
       "      <th></th>\n",
       "      <th>maker_key</th>\n",
       "      <th>model_key</th>\n",
       "      <th>mileage</th>\n",
       "      <th>engine_power</th>\n",
       "      <th>registration_date</th>\n",
       "      <th>fuel</th>\n",
       "      <th>paint_color</th>\n",
       "      <th>car_type</th>\n",
       "      <th>feature_1</th>\n",
       "      <th>feature_2</th>\n",
       "      <th>feature_3</th>\n",
       "      <th>feature_4</th>\n",
       "      <th>feature_5</th>\n",
       "      <th>feature_6</th>\n",
       "      <th>feature_7</th>\n",
       "      <th>feature_8</th>\n",
       "      <th>price</th>\n",
       "      <th>sold_at</th>\n",
       "    </tr>\n",
       "  </thead>\n",
       "  <tbody>\n",
       "    <tr>\n",
       "      <th>0</th>\n",
       "      <td>BMW</td>\n",
       "      <td>118</td>\n",
       "      <td>225921.299</td>\n",
       "      <td>100</td>\n",
       "      <td>2012-02-01</td>\n",
       "      <td>diesel</td>\n",
       "      <td>black</td>\n",
       "      <td>convertible</td>\n",
       "      <td>True</td>\n",
       "      <td>True</td>\n",
       "      <td>False</td>\n",
       "      <td>False</td>\n",
       "      <td>True</td>\n",
       "      <td>True</td>\n",
       "      <td>True</td>\n",
       "      <td>False</td>\n",
       "      <td>22100.54</td>\n",
       "      <td>2018-01-01</td>\n",
       "    </tr>\n",
       "    <tr>\n",
       "      <th>1</th>\n",
       "      <td>BMW</td>\n",
       "      <td>M4</td>\n",
       "      <td>22411.761</td>\n",
       "      <td>317</td>\n",
       "      <td>2016-04-01</td>\n",
       "      <td>petrol</td>\n",
       "      <td>grey</td>\n",
       "      <td>convertible</td>\n",
       "      <td>True</td>\n",
       "      <td>True</td>\n",
       "      <td>False</td>\n",
       "      <td>False</td>\n",
       "      <td>False</td>\n",
       "      <td>True</td>\n",
       "      <td>True</td>\n",
       "      <td>True</td>\n",
       "      <td>136319.26</td>\n",
       "      <td>2018-02-01</td>\n",
       "    </tr>\n",
       "    <tr>\n",
       "      <th>2</th>\n",
       "      <td>BMW</td>\n",
       "      <td>320</td>\n",
       "      <td>294924.873</td>\n",
       "      <td>120</td>\n",
       "      <td>2012-04-01</td>\n",
       "      <td>diesel</td>\n",
       "      <td>white</td>\n",
       "      <td>convertible</td>\n",
       "      <td>False</td>\n",
       "      <td>False</td>\n",
       "      <td>False</td>\n",
       "      <td>False</td>\n",
       "      <td>True</td>\n",
       "      <td>False</td>\n",
       "      <td>True</td>\n",
       "      <td>False</td>\n",
       "      <td>19949.16</td>\n",
       "      <td>2018-02-01</td>\n",
       "    </tr>\n",
       "    <tr>\n",
       "      <th>3</th>\n",
       "      <td>BMW</td>\n",
       "      <td>420</td>\n",
       "      <td>206008.315</td>\n",
       "      <td>135</td>\n",
       "      <td>2014-07-01</td>\n",
       "      <td>diesel</td>\n",
       "      <td>red</td>\n",
       "      <td>convertible</td>\n",
       "      <td>True</td>\n",
       "      <td>True</td>\n",
       "      <td>False</td>\n",
       "      <td>False</td>\n",
       "      <td>True</td>\n",
       "      <td>True</td>\n",
       "      <td>True</td>\n",
       "      <td>True</td>\n",
       "      <td>49090.58</td>\n",
       "      <td>2018-02-01</td>\n",
       "    </tr>\n",
       "    <tr>\n",
       "      <th>4</th>\n",
       "      <td>BMW</td>\n",
       "      <td>425</td>\n",
       "      <td>156229.073</td>\n",
       "      <td>160</td>\n",
       "      <td>2014-12-01</td>\n",
       "      <td>diesel</td>\n",
       "      <td>silver</td>\n",
       "      <td>convertible</td>\n",
       "      <td>True</td>\n",
       "      <td>True</td>\n",
       "      <td>False</td>\n",
       "      <td>False</td>\n",
       "      <td>False</td>\n",
       "      <td>True</td>\n",
       "      <td>True</td>\n",
       "      <td>True</td>\n",
       "      <td>65323.72</td>\n",
       "      <td>2018-04-01</td>\n",
       "    </tr>\n",
       "    <tr>\n",
       "      <th>...</th>\n",
       "      <td>...</td>\n",
       "      <td>...</td>\n",
       "      <td>...</td>\n",
       "      <td>...</td>\n",
       "      <td>...</td>\n",
       "      <td>...</td>\n",
       "      <td>...</td>\n",
       "      <td>...</td>\n",
       "      <td>...</td>\n",
       "      <td>...</td>\n",
       "      <td>...</td>\n",
       "      <td>...</td>\n",
       "      <td>...</td>\n",
       "      <td>...</td>\n",
       "      <td>...</td>\n",
       "      <td>...</td>\n",
       "      <td>...</td>\n",
       "      <td>...</td>\n",
       "    </tr>\n",
       "    <tr>\n",
       "      <th>4838</th>\n",
       "      <td>BMW</td>\n",
       "      <td>218 Gran Tourer</td>\n",
       "      <td>63946.487</td>\n",
       "      <td>110</td>\n",
       "      <td>2015-10-01</td>\n",
       "      <td>diesel</td>\n",
       "      <td>black</td>\n",
       "      <td>van</td>\n",
       "      <td>False</td>\n",
       "      <td>True</td>\n",
       "      <td>False</td>\n",
       "      <td>False</td>\n",
       "      <td>False</td>\n",
       "      <td>False</td>\n",
       "      <td>True</td>\n",
       "      <td>False</td>\n",
       "      <td>28554.68</td>\n",
       "      <td>2018-08-01</td>\n",
       "    </tr>\n",
       "    <tr>\n",
       "      <th>4839</th>\n",
       "      <td>BMW</td>\n",
       "      <td>218 Active Tourer</td>\n",
       "      <td>80179.688</td>\n",
       "      <td>100</td>\n",
       "      <td>2015-06-01</td>\n",
       "      <td>diesel</td>\n",
       "      <td>grey</td>\n",
       "      <td>van</td>\n",
       "      <td>False</td>\n",
       "      <td>True</td>\n",
       "      <td>False</td>\n",
       "      <td>False</td>\n",
       "      <td>False</td>\n",
       "      <td>False</td>\n",
       "      <td>True</td>\n",
       "      <td>True</td>\n",
       "      <td>34226.50</td>\n",
       "      <td>2018-08-01</td>\n",
       "    </tr>\n",
       "    <tr>\n",
       "      <th>4840</th>\n",
       "      <td>BMW</td>\n",
       "      <td>218 Gran Tourer</td>\n",
       "      <td>31589.497</td>\n",
       "      <td>110</td>\n",
       "      <td>2015-10-01</td>\n",
       "      <td>diesel</td>\n",
       "      <td>grey</td>\n",
       "      <td>van</td>\n",
       "      <td>False</td>\n",
       "      <td>True</td>\n",
       "      <td>False</td>\n",
       "      <td>False</td>\n",
       "      <td>False</td>\n",
       "      <td>False</td>\n",
       "      <td>True</td>\n",
       "      <td>True</td>\n",
       "      <td>33248.60</td>\n",
       "      <td>2018-09-01</td>\n",
       "    </tr>\n",
       "    <tr>\n",
       "      <th>4841</th>\n",
       "      <td>BMW</td>\n",
       "      <td>218 Active Tourer</td>\n",
       "      <td>44923.280</td>\n",
       "      <td>110</td>\n",
       "      <td>2016-04-01</td>\n",
       "      <td>diesel</td>\n",
       "      <td>brown</td>\n",
       "      <td>van</td>\n",
       "      <td>True</td>\n",
       "      <td>True</td>\n",
       "      <td>False</td>\n",
       "      <td>False</td>\n",
       "      <td>False</td>\n",
       "      <td>False</td>\n",
       "      <td>True</td>\n",
       "      <td>True</td>\n",
       "      <td>44396.66</td>\n",
       "      <td>2018-09-01</td>\n",
       "    </tr>\n",
       "    <tr>\n",
       "      <th>4842</th>\n",
       "      <td>BMW</td>\n",
       "      <td>525</td>\n",
       "      <td>315106.560</td>\n",
       "      <td>160</td>\n",
       "      <td>2013-01-01</td>\n",
       "      <td>diesel</td>\n",
       "      <td>grey</td>\n",
       "      <td>van</td>\n",
       "      <td>True</td>\n",
       "      <td>True</td>\n",
       "      <td>False</td>\n",
       "      <td>False</td>\n",
       "      <td>True</td>\n",
       "      <td>False</td>\n",
       "      <td>True</td>\n",
       "      <td>True</td>\n",
       "      <td>30314.90</td>\n",
       "      <td>2018-09-01</td>\n",
       "    </tr>\n",
       "  </tbody>\n",
       "</table>\n",
       "<p>4834 rows × 18 columns</p>\n",
       "</div>"
      ],
      "text/plain": [
       "     maker_key          model_key     mileage  engine_power registration_date  \\\n",
       "0          BMW                118  225921.299           100        2012-02-01   \n",
       "1          BMW                 M4   22411.761           317        2016-04-01   \n",
       "2          BMW                320  294924.873           120        2012-04-01   \n",
       "3          BMW                420  206008.315           135        2014-07-01   \n",
       "4          BMW                425  156229.073           160        2014-12-01   \n",
       "...        ...                ...         ...           ...               ...   \n",
       "4838       BMW    218 Gran Tourer   63946.487           110        2015-10-01   \n",
       "4839       BMW  218 Active Tourer   80179.688           100        2015-06-01   \n",
       "4840       BMW    218 Gran Tourer   31589.497           110        2015-10-01   \n",
       "4841       BMW  218 Active Tourer   44923.280           110        2016-04-01   \n",
       "4842       BMW                525  315106.560           160        2013-01-01   \n",
       "\n",
       "        fuel paint_color     car_type  feature_1  feature_2  feature_3  \\\n",
       "0     diesel       black  convertible       True       True      False   \n",
       "1     petrol        grey  convertible       True       True      False   \n",
       "2     diesel       white  convertible      False      False      False   \n",
       "3     diesel         red  convertible       True       True      False   \n",
       "4     diesel      silver  convertible       True       True      False   \n",
       "...      ...         ...          ...        ...        ...        ...   \n",
       "4838  diesel       black          van      False       True      False   \n",
       "4839  diesel        grey          van      False       True      False   \n",
       "4840  diesel        grey          van      False       True      False   \n",
       "4841  diesel       brown          van       True       True      False   \n",
       "4842  diesel        grey          van       True       True      False   \n",
       "\n",
       "      feature_4  feature_5  feature_6  feature_7  feature_8      price  \\\n",
       "0         False       True       True       True      False   22100.54   \n",
       "1         False      False       True       True       True  136319.26   \n",
       "2         False       True      False       True      False   19949.16   \n",
       "3         False       True       True       True       True   49090.58   \n",
       "4         False      False       True       True       True   65323.72   \n",
       "...         ...        ...        ...        ...        ...        ...   \n",
       "4838      False      False      False       True      False   28554.68   \n",
       "4839      False      False      False       True       True   34226.50   \n",
       "4840      False      False      False       True       True   33248.60   \n",
       "4841      False      False      False       True       True   44396.66   \n",
       "4842      False       True      False       True       True   30314.90   \n",
       "\n",
       "         sold_at  \n",
       "0     2018-01-01  \n",
       "1     2018-02-01  \n",
       "2     2018-02-01  \n",
       "3     2018-02-01  \n",
       "4     2018-04-01  \n",
       "...          ...  \n",
       "4838  2018-08-01  \n",
       "4839  2018-08-01  \n",
       "4840  2018-09-01  \n",
       "4841  2018-09-01  \n",
       "4842  2018-09-01  \n",
       "\n",
       "[4834 rows x 18 columns]"
      ]
     },
     "execution_count": 60,
     "metadata": {},
     "output_type": "execute_result"
    }
   ],
   "source": [
    "df.dropna()"
   ]
  }
 ],
 "metadata": {
  "kernelspec": {
   "display_name": "Python 3",
   "language": "python",
   "name": "python3"
  },
  "language_info": {
   "codemirror_mode": {
    "name": "ipython",
    "version": 3
   },
   "file_extension": ".py",
   "mimetype": "text/x-python",
   "name": "python",
   "nbconvert_exporter": "python",
   "pygments_lexer": "ipython3",
   "version": "3.13.0"
  },
  "orig_nbformat": 4
 },
 "nbformat": 4,
 "nbformat_minor": 2
}
