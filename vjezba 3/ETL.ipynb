{
 "cells": [
  {
   "cell_type": "markdown",
   "metadata": {},
   "source": [
    "### ETL Pipeline Implementacija\n",
    "1. Ekstrakcija podataka\n",
    "\n",
    "Prvo učitavamo podatke iz CSV fajla koristeći pandas."
   ]
  },
  {
   "cell_type": "code",
   "execution_count": null,
   "metadata": {},
   "outputs": [],
   "source": [
    "import pandas as pd\n",
    "\n",
    "def extract_data(file_path):\n",
    "    \"\"\"\n",
    "    Ekstraktuje podatke iz CSV fajla.\n",
    "    \n",
    "    :param file_path: Putanja do CSV fajla\n",
    "    :return: DataFrame sa učitanim podacima\n",
    "    \"\"\"\n",
    "    try:\n",
    "        # dodati kod\n",
    "        return df\n",
    "    except Exception as e:\n",
    "        # dodati kod\n",
    "\n",
    "# Učitavanje podataka\n",
    "file_path = \"bmw_pricing_challenge.csv\"\n",
    "df = extract_data(file_path)\n",
    "\n",
    "# Prikaz prvih 5 redova\n",
    "print(df.head())"
   ]
  },
  {
   "cell_type": "markdown",
   "metadata": {},
   "source": [
    "#### 2. Transformacija podataka\n",
    "a) Čišćenje podatak\n",
    "\n",
    "Konvertujemo registration_date i sold_at u datetime format.\n",
    "\n",
    "Uklanjamo nelogične vrijednosti (mileage < 0 i engine_power = 0)."
   ]
  },
  {
   "cell_type": "code",
   "execution_count": null,
   "metadata": {},
   "outputs": [],
   "source": [
    "def clean_data(df):\n",
    "    \"\"\"\n",
    "    Čisti podatke uklanjanjem nelogičnih vrijednosti i konverzijom tipova.\n",
    "    \n",
    "    :param df: Ulazni DataFrame\n",
    "    :return: Očišćeni DataFrame\n",
    "    \"\"\"\n",
    "    df['registration_date'] = pd.to_datetime(df['registration_date'], errors='coerce')\n",
    "    df['sold_at'] = pd.to_datetime(df['sold_at'], errors='coerce')\n",
    "    \n",
    "    # Uklanjamo negativne vrijednosti kilometraže i nulovanu snagu motora\n",
    "    # dodati kod\n",
    "    # dodati kod\n",
    "    \n",
    "    return df\n",
    "\n",
    "df = clean_data(df)"
   ]
  },
  {
   "cell_type": "markdown",
   "metadata": {},
   "source": [
    "b) Filtriranje podataka\n",
    "\n",
    "Zadržavamo samo automobile starije od 2010. godine."
   ]
  },
  {
   "cell_type": "code",
   "execution_count": null,
   "metadata": {},
   "outputs": [],
   "source": [
    "def filter_data(df):\n",
    "    \"\"\"\n",
    "    Filtrira podatke na osnovu godina registracije (zadržava automobile novije od 2010).\n",
    "    \n",
    "    :param df: Ulazni DataFrame\n",
    "    :return: Filtrirani DataFrame\n",
    "    \"\"\"\n",
    "    # dodati kod\n",
    "    return df\n",
    "\n",
    "df = filter_data(df)"
   ]
  },
  {
   "cell_type": "markdown",
   "metadata": {},
   "source": [
    "c) Dodavanje novih kolona\n",
    "\n",
    "Računamo starost automobila i prosječnu kilometražu godišnje."
   ]
  },
  {
   "cell_type": "code",
   "execution_count": null,
   "metadata": {},
   "outputs": [],
   "source": [
    "def add_columns(df):\n",
    "    \"\"\"\n",
    "    Dodaje nove kolone koje poboljšavaju analizu podataka.\n",
    "    \n",
    "    :param df: Ulazni DataFrame\n",
    "    :return: DataFrame sa novim kolonama\n",
    "    \"\"\"\n",
    "    df['car_age'] = df['sold_at'].dt.year - df['registration_date'].dt.year\n",
    "    df['avg_mileage_per_year'] = df['mileage'] / df['car_age']\n",
    "    \n",
    "    # Uklanjamo automobile sa starošću 0 da izbjegnemo dijeljenje s nulom\n",
    "    # dodati kod\n",
    "    \n",
    "    return df\n",
    "\n",
    "df = add_columns(df)\n"
   ]
  },
  {
   "cell_type": "markdown",
   "metadata": {},
   "source": [
    "d) Uklanjanje nepotrebnih kolona\n",
    "\n",
    "Zadržavamo samo ključne kolone."
   ]
  },
  {
   "cell_type": "code",
   "execution_count": null,
   "metadata": {},
   "outputs": [],
   "source": [
    "def remove_columns(df):\n",
    "    \"\"\"\n",
    "    Uklanja nepotrebne kolone iz DataFrame-a.\n",
    "    \n",
    "    :param df: Ulazni DataFrame\n",
    "    :return: Očišćeni DataFrame\n",
    "    \"\"\"\n",
    "    columns_to_keep = ['maker_key', 'model_key', 'mileage', 'engine_power',\n",
    "                       'registration_date', 'sold_at', 'car_age',\n",
    "                       'avg_mileage_per_year', 'price']\n",
    "    \n",
    "    # dodati kod\n",
    "    return # dodati kod\n",
    "\n",
    "df = remove_columns(df)\n"
   ]
  },
  {
   "cell_type": "markdown",
   "metadata": {},
   "source": [
    "#### 3. Učitavanje podataka u Excel\n",
    "Konačno, spremamo transformisane podatke u Excel fajl."
   ]
  },
  {
   "cell_type": "code",
   "execution_count": null,
   "metadata": {},
   "outputs": [],
   "source": [
    "def load_data(df, output_file):\n",
    "    \"\"\"\n",
    "    Sprema transformisane podatke u Excel fajl.\n",
    "    \n",
    "    :param df: DataFrame za spremanje.\n",
    "    :param output_file: Putanja do izlaznog fajla.\n",
    "    \"\"\"\n",
    "    try:\n",
    "        # dodati kod\n",
    "        # dodati kod\n",
    "    except Exception as e:\n",
    "        # dodati kod\n",
    "\n",
    "# Spremanje podataka\n",
    "output_file = \"bmw_transformed_data.xlsx\"\n",
    "load_data(df, output_file)\n"
   ]
  },
  {
   "cell_type": "markdown",
   "metadata": {},
   "source": [
    "#### Modularizacija ETL Pipeline-a sa pipe()"
   ]
  },
  {
   "cell_type": "code",
   "execution_count": null,
   "metadata": {},
   "outputs": [],
   "source": [
    "def etl_pipeline(file_path, output_file):\n",
    "    # dodati kod\n",
    "    \n",
    "    (df\n",
    "     .pipe(clean_data)\n",
    "     # dodati kod\n",
    "     # dodati kod\n",
    "     # dodati kod\n",
    "     # dodati kod)\n",
    "\n",
    "# Pokretanje pipeline-a\n",
    "# dodati kod\n"
   ]
  }
 ],
 "metadata": {
  "kernelspec": {
   "display_name": "Python 3",
   "language": "python",
   "name": "python3"
  },
  "language_info": {
   "codemirror_mode": {
    "name": "ipython",
    "version": 3
   },
   "file_extension": ".py",
   "mimetype": "text/x-python",
   "name": "python",
   "nbconvert_exporter": "python",
   "pygments_lexer": "ipython3",
   "version": "3.11.0"
  }
 },
 "nbformat": 4,
 "nbformat_minor": 2
}
