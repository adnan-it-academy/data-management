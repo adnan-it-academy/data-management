{
 "cells": [
  {
   "cell_type": "markdown",
   "metadata": {},
   "source": [
    "### ETL Pipeline Implementacija\n",
    "1. Ekstrakcija podataka\n",
    "\n",
    "Prvo učitavamo podatke iz CSV fajla koristeći pandas."
   ]
  },
  {
   "cell_type": "code",
   "execution_count": 1,
   "metadata": {},
   "outputs": [
    {
     "name": "stdout",
     "output_type": "stream",
     "text": [
      "  maker_key model_key  mileage  engine_power registration_date    fuel  \\\n",
      "0       BMW       118   140411           100        2012-02-01  diesel   \n",
      "1       BMW        M4    13929           317        2016-04-01  petrol   \n",
      "2       BMW       320   183297           120        2012-04-01  diesel   \n",
      "3       BMW       420   128035           135        2014-07-01  diesel   \n",
      "4       BMW       425    97097           160        2014-12-01  diesel   \n",
      "\n",
      "  paint_color     car_type  feature_1  feature_2  feature_3  feature_4  \\\n",
      "0       black  convertible       True       True      False      False   \n",
      "1        grey  convertible       True       True      False      False   \n",
      "2       white  convertible      False      False      False      False   \n",
      "3         red  convertible       True       True      False      False   \n",
      "4      silver  convertible       True       True      False      False   \n",
      "\n",
      "   feature_5  feature_6  feature_7  feature_8  price     sold_at  \n",
      "0       True       True       True      False  11300  2018-01-01  \n",
      "1      False       True       True       True  69700  2018-02-01  \n",
      "2       True      False       True      False  10200  2018-02-01  \n",
      "3       True       True       True       True  25100  2018-02-01  \n",
      "4      False       True       True       True  33400  2018-04-01  \n"
     ]
    }
   ],
   "source": [
    "import pandas as pd\n",
    "\n",
    "def extract_data(file_path):\n",
    "    \"\"\"\n",
    "    Ekstraktuje podatke iz CSV fajla.\n",
    "    \n",
    "    :param file_path: Putanja do CSV fajla\n",
    "    :return: DataFrame sa učitanim podacima\n",
    "    \"\"\"\n",
    "    try:\n",
    "        df = pd.read_csv(file_path)\n",
    "\n",
    "        return df\n",
    "    except Exception as e:\n",
    "        print(f\"Došlo je do greske: {e}\")\n",
    "\n",
    "# Učitavanje podataka\n",
    "file_path = \"bmw_pricing_challenge.csv\"\n",
    "df = extract_data(file_path)\n",
    "\n",
    "# Prikaz prvih 5 redova\n",
    "print(df.head())"
   ]
  },
  {
   "cell_type": "markdown",
   "metadata": {},
   "source": [
    "#### 2. Transformacija podataka\n",
    "a) Čišćenje podatak\n",
    "\n",
    "Konvertujemo registration_date i sold_at u datetime format.\n",
    "\n",
    "Uklanjamo nelogične vrijednosti (mileage < 0 i engine_power = 0)."
   ]
  },
  {
   "cell_type": "code",
   "execution_count": 2,
   "metadata": {},
   "outputs": [
    {
     "data": {
      "text/plain": [
       "[0       True\n",
       " 1       True\n",
       " 2       True\n",
       " 3       True\n",
       " 4       True\n",
       "         ... \n",
       " 4838    True\n",
       " 4839    True\n",
       " 4840    True\n",
       " 4841    True\n",
       " 4842    True\n",
       " Name: engine_power, Length: 4842, dtype: bool]"
      ]
     },
     "execution_count": 2,
     "metadata": {},
     "output_type": "execute_result"
    }
   ],
   "source": [
    "def clean_data(df):\n",
    "    \"\"\"\n",
    "    Čisti podatke uklanjanjem nelogičnih vrijednosti i konverzijom tipova.\n",
    "    \n",
    "    :param df: Ulazni DataFrame\n",
    "    :return: Očišćeni DataFrame\n",
    "    \"\"\"\n",
    "    df['registration_date'] = pd.to_datetime(df['registration_date'], errors='coerce')\n",
    "    df['sold_at'] = pd.to_datetime(df['sold_at'], errors='coerce')\n",
    "    \n",
    "    # Uklanjamo negativne vrijednosti kilometraže i nulovanu snagu motora\n",
    "     \n",
    "    df = df[df['mileage'] > 0]\n",
    "    df = [df[\"engine_power\"] > 0]\n",
    "    return df\n",
    "\n",
    "df = clean_data(df)\n",
    "df"
   ]
  },
  {
   "cell_type": "markdown",
   "metadata": {},
   "source": [
    "b) Filtriranje podataka\n",
    "\n",
    "Zadržavamo samo automobile starije od 2010. godine."
   ]
  },
  {
   "cell_type": "code",
   "execution_count": 3,
   "metadata": {},
   "outputs": [
    {
     "ename": "TypeError",
     "evalue": "list indices must be integers or slices, not str",
     "output_type": "error",
     "traceback": [
      "\u001b[1;31m---------------------------------------------------------------------------\u001b[0m",
      "\u001b[1;31mTypeError\u001b[0m                                 Traceback (most recent call last)",
      "Cell \u001b[1;32mIn[3], line 13\u001b[0m\n\u001b[0;32m      9\u001b[0m     df_filtered \u001b[38;5;241m=\u001b[39m df[df[\u001b[38;5;124m'\u001b[39m\u001b[38;5;124mregistration_date\u001b[39m\u001b[38;5;124m'\u001b[39m]\u001b[38;5;241m.\u001b[39mdt\u001b[38;5;241m.\u001b[39myear \u001b[38;5;241m>\u001b[39m \u001b[38;5;241m2010\u001b[39m]\n\u001b[0;32m     11\u001b[0m     \u001b[38;5;28;01mreturn\u001b[39;00m df_filtered\n\u001b[1;32m---> 13\u001b[0m df \u001b[38;5;241m=\u001b[39m \u001b[43mfilter_data\u001b[49m\u001b[43m(\u001b[49m\u001b[43mdf\u001b[49m\u001b[43m)\u001b[49m\n",
      "Cell \u001b[1;32mIn[3], line 8\u001b[0m, in \u001b[0;36mfilter_data\u001b[1;34m(df)\u001b[0m\n\u001b[0;32m      1\u001b[0m \u001b[38;5;28;01mdef\u001b[39;00m \u001b[38;5;21mfilter_data\u001b[39m(df):\n\u001b[0;32m      2\u001b[0m \u001b[38;5;250m    \u001b[39m\u001b[38;5;124;03m\"\"\"\u001b[39;00m\n\u001b[0;32m      3\u001b[0m \u001b[38;5;124;03m    Filtrira podatke na osnovu godina registracije (zadržava automobile novije od 2010).\u001b[39;00m\n\u001b[0;32m      4\u001b[0m \u001b[38;5;124;03m    \u001b[39;00m\n\u001b[0;32m      5\u001b[0m \u001b[38;5;124;03m    :param df: Ulazni DataFrame\u001b[39;00m\n\u001b[0;32m      6\u001b[0m \u001b[38;5;124;03m    :return: Filtrirani DataFrame\u001b[39;00m\n\u001b[0;32m      7\u001b[0m \u001b[38;5;124;03m    \"\"\"\u001b[39;00m\n\u001b[1;32m----> 8\u001b[0m     df[\u001b[38;5;124m'\u001b[39m\u001b[38;5;124mregistration_date\u001b[39m\u001b[38;5;124m'\u001b[39m] \u001b[38;5;241m=\u001b[39m pd\u001b[38;5;241m.\u001b[39mto_datetime(\u001b[43mdf\u001b[49m\u001b[43m[\u001b[49m\u001b[38;5;124;43m'\u001b[39;49m\u001b[38;5;124;43mregistration_date\u001b[39;49m\u001b[38;5;124;43m'\u001b[39;49m\u001b[43m]\u001b[49m)\n\u001b[0;32m      9\u001b[0m     df_filtered \u001b[38;5;241m=\u001b[39m df[df[\u001b[38;5;124m'\u001b[39m\u001b[38;5;124mregistration_date\u001b[39m\u001b[38;5;124m'\u001b[39m]\u001b[38;5;241m.\u001b[39mdt\u001b[38;5;241m.\u001b[39myear \u001b[38;5;241m>\u001b[39m \u001b[38;5;241m2010\u001b[39m]\n\u001b[0;32m     11\u001b[0m     \u001b[38;5;28;01mreturn\u001b[39;00m df_filtered\n",
      "\u001b[1;31mTypeError\u001b[0m: list indices must be integers or slices, not str"
     ]
    }
   ],
   "source": [
    "def filter_data(df):\n",
    "    \"\"\"\n",
    "    Filtrira podatke na osnovu godina registracije (zadržava automobile novije od 2010).\n",
    "    \n",
    "    :param df: Ulazni DataFrame\n",
    "    :return: Filtrirani DataFrame\n",
    "    \"\"\"\n",
    "    df['registration_date'] = pd.to_datetime(df['registration_date'])\n",
    "    df_filtered = df[df['registration_date'].dt.year > 2010]\n",
    "\n",
    "    return df_filtered\n",
    "\n",
    "df = filter_data(df)"
   ]
  },
  {
   "cell_type": "markdown",
   "metadata": {},
   "source": [
    "c) Dodavanje novih kolona\n",
    "\n",
    "Računamo starost automobila i prosječnu kilometražu godišnje."
   ]
  },
  {
   "cell_type": "code",
   "execution_count": 4,
   "metadata": {},
   "outputs": [
    {
     "ename": "TypeError",
     "evalue": "list indices must be integers or slices, not str",
     "output_type": "error",
     "traceback": [
      "\u001b[1;31m---------------------------------------------------------------------------\u001b[0m",
      "\u001b[1;31mTypeError\u001b[0m                                 Traceback (most recent call last)",
      "Cell \u001b[1;32mIn[4], line 16\u001b[0m\n\u001b[0;32m     12\u001b[0m     df \u001b[38;5;241m=\u001b[39m df[df[\u001b[38;5;124m'\u001b[39m\u001b[38;5;124mcar_age\u001b[39m\u001b[38;5;124m'\u001b[39m] \u001b[38;5;241m>\u001b[39m \u001b[38;5;241m0\u001b[39m]\n\u001b[0;32m     14\u001b[0m     \u001b[38;5;28;01mreturn\u001b[39;00m df\n\u001b[1;32m---> 16\u001b[0m df \u001b[38;5;241m=\u001b[39m \u001b[43madd_columns\u001b[49m\u001b[43m(\u001b[49m\u001b[43mdf\u001b[49m\u001b[43m)\u001b[49m\n",
      "Cell \u001b[1;32mIn[4], line 8\u001b[0m, in \u001b[0;36madd_columns\u001b[1;34m(df)\u001b[0m\n\u001b[0;32m      1\u001b[0m \u001b[38;5;28;01mdef\u001b[39;00m \u001b[38;5;21madd_columns\u001b[39m(df):\n\u001b[0;32m      2\u001b[0m \u001b[38;5;250m    \u001b[39m\u001b[38;5;124;03m\"\"\"\u001b[39;00m\n\u001b[0;32m      3\u001b[0m \u001b[38;5;124;03m    Dodaje nove kolone koje poboljšavaju analizu podataka.\u001b[39;00m\n\u001b[0;32m      4\u001b[0m \u001b[38;5;124;03m    \u001b[39;00m\n\u001b[0;32m      5\u001b[0m \u001b[38;5;124;03m    :param df: Ulazni DataFrame\u001b[39;00m\n\u001b[0;32m      6\u001b[0m \u001b[38;5;124;03m    :return: DataFrame sa novim kolonama\u001b[39;00m\n\u001b[0;32m      7\u001b[0m \u001b[38;5;124;03m    \"\"\"\u001b[39;00m\n\u001b[1;32m----> 8\u001b[0m     df[\u001b[38;5;124m'\u001b[39m\u001b[38;5;124mcar_age\u001b[39m\u001b[38;5;124m'\u001b[39m] \u001b[38;5;241m=\u001b[39m pd\u001b[38;5;241m.\u001b[39mto_datetime(\u001b[43mdf\u001b[49m\u001b[43m[\u001b[49m\u001b[38;5;124;43m'\u001b[39;49m\u001b[38;5;124;43msold_at\u001b[39;49m\u001b[38;5;124;43m'\u001b[39;49m\u001b[43m]\u001b[49m, errors\u001b[38;5;241m=\u001b[39m\u001b[38;5;124m\"\u001b[39m\u001b[38;5;124mcoerce\u001b[39m\u001b[38;5;124m\"\u001b[39m)\u001b[38;5;241m.\u001b[39mdt\u001b[38;5;241m.\u001b[39myear \u001b[38;5;241m-\u001b[39m df[\u001b[38;5;124m'\u001b[39m\u001b[38;5;124mregistration_date\u001b[39m\u001b[38;5;124m'\u001b[39m]\u001b[38;5;241m.\u001b[39mdt\u001b[38;5;241m.\u001b[39myear\n\u001b[0;32m      9\u001b[0m     df[\u001b[38;5;124m'\u001b[39m\u001b[38;5;124mavg_mileage_per_year\u001b[39m\u001b[38;5;124m'\u001b[39m] \u001b[38;5;241m=\u001b[39m df[\u001b[38;5;124m'\u001b[39m\u001b[38;5;124mmileage\u001b[39m\u001b[38;5;124m'\u001b[39m] \u001b[38;5;241m/\u001b[39m df[\u001b[38;5;124m'\u001b[39m\u001b[38;5;124mcar_age\u001b[39m\u001b[38;5;124m'\u001b[39m]\n\u001b[0;32m     11\u001b[0m     \u001b[38;5;66;03m# Uklanjamo automobile sa starošću 0 da izbjegnemo dijeljenje s nulom\u001b[39;00m\n",
      "\u001b[1;31mTypeError\u001b[0m: list indices must be integers or slices, not str"
     ]
    }
   ],
   "source": [
    "def add_columns(df):\n",
    "    \"\"\"\n",
    "    Dodaje nove kolone koje poboljšavaju analizu podataka.\n",
    "    \n",
    "    :param df: Ulazni DataFrame\n",
    "    :return: DataFrame sa novim kolonama\n",
    "    \"\"\"\n",
    "    df['car_age'] = pd.to_datetime(df['sold_at'], errors=\"coerce\").dt.year - df['registration_date'].dt.year\n",
    "    df['avg_mileage_per_year'] = df['mileage'] / df['car_age']\n",
    "    \n",
    "    # Uklanjamo automobile sa starošću 0 da izbjegnemo dijeljenje s nulom\n",
    "    df = df[df['car_age'] > 0]\n",
    "    \n",
    "    return df\n",
    "\n",
    "df = add_columns(df)\n",
    "\n"
   ]
  },
  {
   "cell_type": "markdown",
   "metadata": {},
   "source": [
    "d) Uklanjanje nepotrebnih kolona\n",
    "\n",
    "Zadržavamo samo ključne kolone."
   ]
  },
  {
   "cell_type": "code",
   "execution_count": 5,
   "metadata": {},
   "outputs": [
    {
     "ename": "AttributeError",
     "evalue": "'list' object has no attribute 'loc'",
     "output_type": "error",
     "traceback": [
      "\u001b[1;31m---------------------------------------------------------------------------\u001b[0m",
      "\u001b[1;31mAttributeError\u001b[0m                            Traceback (most recent call last)",
      "Cell \u001b[1;32mIn[5], line 16\u001b[0m\n\u001b[0;32m     12\u001b[0m     df \u001b[38;5;241m=\u001b[39m df\u001b[38;5;241m.\u001b[39mloc[:, df\u001b[38;5;241m.\u001b[39mcolumns\u001b[38;5;241m.\u001b[39mintersection(columns_to_keep)]\n\u001b[0;32m     14\u001b[0m     \u001b[38;5;28;01mreturn\u001b[39;00m df\n\u001b[1;32m---> 16\u001b[0m df \u001b[38;5;241m=\u001b[39m \u001b[43mremove_columns\u001b[49m\u001b[43m(\u001b[49m\u001b[43mdf\u001b[49m\u001b[43m)\u001b[49m\n\u001b[0;32m     17\u001b[0m df\n",
      "Cell \u001b[1;32mIn[5], line 12\u001b[0m, in \u001b[0;36mremove_columns\u001b[1;34m(df)\u001b[0m\n\u001b[0;32m      2\u001b[0m \u001b[38;5;250m\u001b[39m\u001b[38;5;124;03m\"\"\"\u001b[39;00m\n\u001b[0;32m      3\u001b[0m \u001b[38;5;124;03mUklanja nepotrebne kolone iz DataFrame-a.\u001b[39;00m\n\u001b[0;32m      4\u001b[0m \u001b[38;5;124;03m\u001b[39;00m\n\u001b[0;32m      5\u001b[0m \u001b[38;5;124;03m:param df: Ulazni DataFrame\u001b[39;00m\n\u001b[0;32m      6\u001b[0m \u001b[38;5;124;03m:return: Očišćeni DataFrame\u001b[39;00m\n\u001b[0;32m      7\u001b[0m \u001b[38;5;124;03m\"\"\"\u001b[39;00m\n\u001b[0;32m      8\u001b[0m columns_to_keep \u001b[38;5;241m=\u001b[39m [\u001b[38;5;124m'\u001b[39m\u001b[38;5;124mmaker_key\u001b[39m\u001b[38;5;124m'\u001b[39m, \u001b[38;5;124m'\u001b[39m\u001b[38;5;124mmodel_key\u001b[39m\u001b[38;5;124m'\u001b[39m, \u001b[38;5;124m'\u001b[39m\u001b[38;5;124mmileage\u001b[39m\u001b[38;5;124m'\u001b[39m, \u001b[38;5;124m'\u001b[39m\u001b[38;5;124mengine_power\u001b[39m\u001b[38;5;124m'\u001b[39m,\n\u001b[0;32m      9\u001b[0m                    \u001b[38;5;124m'\u001b[39m\u001b[38;5;124mregistration_date\u001b[39m\u001b[38;5;124m'\u001b[39m, \u001b[38;5;124m'\u001b[39m\u001b[38;5;124msold_at\u001b[39m\u001b[38;5;124m'\u001b[39m, \u001b[38;5;124m'\u001b[39m\u001b[38;5;124mcar_age\u001b[39m\u001b[38;5;124m'\u001b[39m,\n\u001b[0;32m     10\u001b[0m                    \u001b[38;5;124m'\u001b[39m\u001b[38;5;124mavg_mileage_per_year\u001b[39m\u001b[38;5;124m'\u001b[39m, \u001b[38;5;124m'\u001b[39m\u001b[38;5;124mprice\u001b[39m\u001b[38;5;124m'\u001b[39m]\n\u001b[1;32m---> 12\u001b[0m df \u001b[38;5;241m=\u001b[39m \u001b[43mdf\u001b[49m\u001b[38;5;241;43m.\u001b[39;49m\u001b[43mloc\u001b[49m[:, df\u001b[38;5;241m.\u001b[39mcolumns\u001b[38;5;241m.\u001b[39mintersection(columns_to_keep)]\n\u001b[0;32m     14\u001b[0m \u001b[38;5;28;01mreturn\u001b[39;00m df\n",
      "\u001b[1;31mAttributeError\u001b[0m: 'list' object has no attribute 'loc'"
     ]
    }
   ],
   "source": [
    "def remove_columns(df):\n",
    "    \"\"\"\n",
    "    Uklanja nepotrebne kolone iz DataFrame-a.\n",
    "    \n",
    "    :param df: Ulazni DataFrame\n",
    "    :return: Očišćeni DataFrame\n",
    "    \"\"\"\n",
    "    columns_to_keep = ['maker_key', 'model_key', 'mileage', 'engine_power',\n",
    "                       'registration_date', 'sold_at', 'car_age',\n",
    "                       'avg_mileage_per_year', 'price']\n",
    "    \n",
    "    df = df.loc[:, df.columns.intersection(columns_to_keep)]\n",
    "\n",
    "    return df\n",
    "\n",
    "df = remove_columns(df)\n",
    "df\n"
   ]
  },
  {
   "cell_type": "markdown",
   "metadata": {},
   "source": [
    "#### 3. Učitavanje podataka u Excel\n",
    "Konačno, spremamo transformisane podatke u Excel fajl."
   ]
  },
  {
   "cell_type": "code",
   "execution_count": 6,
   "metadata": {},
   "outputs": [
    {
     "name": "stdout",
     "output_type": "stream",
     "text": [
      "Došlo je do greške: 'list' object has no attribute 'to_csv'\n"
     ]
    },
    {
     "data": {
      "text/plain": [
       "[0       True\n",
       " 1       True\n",
       " 2       True\n",
       " 3       True\n",
       " 4       True\n",
       "         ... \n",
       " 4838    True\n",
       " 4839    True\n",
       " 4840    True\n",
       " 4841    True\n",
       " 4842    True\n",
       " Name: engine_power, Length: 4842, dtype: bool]"
      ]
     },
     "execution_count": 6,
     "metadata": {},
     "output_type": "execute_result"
    }
   ],
   "source": [
    "def load_data(df, output_file):\n",
    "    \"\"\"\n",
    "    Sprema transformisane podatke u Excel fajl.\n",
    "    \n",
    "    :param df: DataFrame za spremanje.\n",
    "    :param output_file: Putanja do izlaznog fajla.\n",
    "    \"\"\"\n",
    "    try:\n",
    "        df.to_csv(output_file, index=False)\n",
    "        print(f\"Podaci su uspešno spremljeni u {output_file}.\")\n",
    "    except Exception as e:\n",
    "         print(f\"Došlo je do greške: {e}\")\n",
    "\n",
    "# Spremanje podataka\n",
    "output_file = \"bmw_transformed_data.csv\"\n",
    "load_data(df, output_file)\n",
    "\n",
    "df\n"
   ]
  },
  {
   "cell_type": "markdown",
   "metadata": {},
   "source": [
    "#### Modularizacija ETL Pipeline-a sa pipe()"
   ]
  },
  {
   "cell_type": "code",
   "execution_count": null,
   "metadata": {},
   "outputs": [],
   "source": [
    "def etl_pipeline(file_path, output_file):\n",
    "    # dodati kod\n",
    "    \n",
    "    (df\n",
    "     .pipe(clean_data)\n",
    "     # dodati kod\n",
    "     # dodati kod\n",
    "     # dodati kod\n",
    "     # dodati kod)\n",
    "\n",
    "# Pokretanje pipeline-a\n",
    "# dodati kod\n"
   ]
  }
 ],
 "metadata": {
  "kernelspec": {
   "display_name": "Python 3",
   "language": "python",
   "name": "python3"
  },
  "language_info": {
   "codemirror_mode": {
    "name": "ipython",
    "version": 3
   },
   "file_extension": ".py",
   "mimetype": "text/x-python",
   "name": "python",
   "nbconvert_exporter": "python",
   "pygments_lexer": "ipython3",
   "version": "3.13.0"
  }
 },
 "nbformat": 4,
 "nbformat_minor": 2
}
