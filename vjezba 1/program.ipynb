{
 "cells": [
  {
   "cell_type": "code",
   "execution_count": null,
   "metadata": {},
   "outputs": [],
   "source": [
    "import pickle\n",
    "\n",
    "book == Book(\"1984\",\"GW\",1949,\"Distopijski\")\n",
    "serialized_book = pickle.dumps(book)\n",
    "print(serialized_book)"
   ]
  }
 ],
 "metadata": {
  "language_info": {
   "name": "python"
  }
 },
 "nbformat": 4,
 "nbformat_minor": 2
}
