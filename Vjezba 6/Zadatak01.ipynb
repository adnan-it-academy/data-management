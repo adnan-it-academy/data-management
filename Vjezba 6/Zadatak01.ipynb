{
 "cells": [
  {
   "cell_type": "code",
   "execution_count": 1,
   "metadata": {},
   "outputs": [
    {
     "name": "stdout",
     "output_type": "stream",
     "text": [
      "Poslani brojevi su: (1, 2, 3, 4)\n"
     ]
    }
   ],
   "source": [
    "def ispisi_brojeve(*args):\n",
    "    print(\"Poslani brojevi su:\", args)\n",
    "\n",
    "ispisi_brojeve(1,2,3,4)"
   ]
  },
  {
   "cell_type": "code",
   "execution_count": 3,
   "metadata": {},
   "outputs": [
    {
     "name": "stdout",
     "output_type": "stream",
     "text": [
      "Podaci o korisniku:\n",
      "ime: Mujo\n",
      "prezime: Mujić\n",
      "godine: 28\n",
      "grad: Sarajevo\n"
     ]
    }
   ],
   "source": [
    "def ispisi_korisnika(**kwargs):\n",
    "    print(\"Podaci o korisniku:\")\n",
    "    for kljuc, vrijednost in kwargs.items():\n",
    "        print(f\"{kljuc}: {vrijednost}\")\n",
    "\n",
    "ispisi_korisnika(ime=\"Mujo\", prezime=\"Mujić\", godine=28, grad=\"Sarajevo\")"
   ]
  },
  {
   "cell_type": "code",
   "execution_count": 4,
   "metadata": {},
   "outputs": [
    {
     "name": "stdout",
     "output_type": "stream",
     "text": [
      "Obavezni argument a:  10\n",
      "Ostali pozicijski args: (20, 30)\n",
      "Keyword args: {'ime': 'Mujo', 'grad': 'Sarajevo'}\n"
     ]
    }
   ],
   "source": [
    "def kombinacija(a, *args, **kwargs):\n",
    "    print(\"Obavezni argument a: \", a)\n",
    "    print(\"Ostali pozicijski args:\", args)\n",
    "    print(\"Keyword args:\", kwargs)\n",
    "\n",
    "kombinacija(10, 20, 30, ime=\"Mujo\", grad=\"Sarajevo\")\n",
    "\n",
    "\n"
   ]
  },
  {
   "cell_type": "code",
   "execution_count": null,
   "metadata": {},
   "outputs": [],
   "source": []
  },
  {
   "cell_type": "code",
   "execution_count": null,
   "metadata": {},
   "outputs": [],
   "source": []
  },
  {
   "cell_type": "code",
   "execution_count": null,
   "metadata": {},
   "outputs": [],
   "source": []
  },
  {
   "cell_type": "code",
   "execution_count": null,
   "metadata": {},
   "outputs": [],
   "source": []
  }
 ],
 "metadata": {
  "kernelspec": {
   "display_name": "Python 3",
   "language": "python",
   "name": "python3"
  },
  "language_info": {
   "codemirror_mode": {
    "name": "ipython",
    "version": 3
   },
   "file_extension": ".py",
   "mimetype": "text/x-python",
   "name": "python",
   "nbconvert_exporter": "python",
   "pygments_lexer": "ipython3",
   "version": "3.13.0"
  }
 },
 "nbformat": 4,
 "nbformat_minor": 2
}
