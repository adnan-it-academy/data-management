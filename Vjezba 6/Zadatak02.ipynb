{
 "cells": [
  {
   "cell_type": "code",
   "execution_count": 14,
   "metadata": {},
   "outputs": [
    {
     "data": {
      "text/plain": [
       "13"
      ]
     },
     "execution_count": 14,
     "metadata": {},
     "output_type": "execute_result"
    }
   ],
   "source": [
    "\n",
    "def zbroji_sve(*args):\n",
    "    suma = 0\n",
    "    for i in args:\n",
    "        if isinstance(i,(int,float)) == True:\n",
    "            suma = suma + i\n",
    "    return suma\n",
    "\n",
    "\n",
    "zbroji_sve(1,5,7,\"a\", 0, \"bbb\")\n",
    "\n"
   ]
  },
  {
   "cell_type": "code",
   "execution_count": 15,
   "metadata": {},
   "outputs": [
    {
     "name": "stdout",
     "output_type": "stream",
     "text": [
      "Zbir niza je: 13\n"
     ]
    }
   ],
   "source": [
    "def zbroji_sve(*args):\n",
    "    suma = 0\n",
    "    for i in args:\n",
    "        if isinstance(i,(int,float)) == True:\n",
    "            suma = suma + i\n",
    "    return suma\n",
    "\n",
    "zbir = zbroji_sve(1,5,7,\"a\", 0, \"bbb\")\n",
    "\n",
    "print(f\"Zbir niza je: {zbir}\")"
   ]
  },
  {
   "cell_type": "code",
   "execution_count": 20,
   "metadata": {},
   "outputs": [
    {
     "name": "stdout",
     "output_type": "stream",
     "text": [
      "Element u nizu je: 1 i njegov indeks je 0\n",
      "Element u nizu je: 5 i njegov indeks je 1\n",
      "Element u nizu je: 7 i njegov indeks je 2\n"
     ]
    }
   ],
   "source": [
    "def ispisi_s_argovima(*args):\n",
    "\n",
    "    for i, k in enumerate(args):\n",
    "        print(f\"Element u nizu je: {k} i njegov indeks je {i}\")\n",
    "\n",
    "ispisi_s_argovima(1,5,7)"
   ]
  },
  {
   "cell_type": "code",
   "execution_count": 26,
   "metadata": {},
   "outputs": [
    {
     "name": "stdout",
     "output_type": "stream",
     "text": [
      "ime: Ana\n",
      "grad: Zagreb\n",
      "godine: 28\n"
     ]
    }
   ],
   "source": [
    "def formatirani_ispis(**kwargs):\n",
    "    for kljuc, vrijednost in kwargs.items():\n",
    "        print(f\"{kljuc}: {vrijednost}\")\n",
    "\n",
    "formatirani_ispis(ime=\"Ana\", grad=\"Zagreb\", godine=28)"
   ]
  },
  {
   "cell_type": "code",
   "execution_count": 41,
   "metadata": {},
   "outputs": [
    {
     "data": {
      "text/plain": [
       "['PYTHON', 123, 'BANANA', 'HELLO']"
      ]
     },
     "execution_count": 41,
     "metadata": {},
     "output_type": "execute_result"
    }
   ],
   "source": [
    "def uppercase_strings(*args):\n",
    "    lista = []\n",
    "    for i in args:\n",
    "        if isinstance(i,str) == True:\n",
    "            lista.append(i.upper())\n",
    "        else:\n",
    "            lista.append(i)\n",
    "    return lista\n",
    "\n",
    "uppercase_strings(\"python\", 123, \"banana\", \"HELLO\")"
   ]
  },
  {
   "cell_type": "code",
   "execution_count": 43,
   "metadata": {},
   "outputs": [
    {
     "data": {
      "text/plain": [
       "(22.5, ['hej', 'test'])"
      ]
     },
     "execution_count": 43,
     "metadata": {},
     "output_type": "execute_result"
    }
   ],
   "source": [
    "def zbroji_float_i_broj(*args):\n",
    "    lista= []\n",
    "    suma = 0\n",
    "    for arg in args:\n",
    "        if isinstance(arg,(float,int)):\n",
    "            suma = suma + arg\n",
    "        else:\n",
    "            lista.append(arg)\n",
    "    \n",
    "    return suma, lista\n",
    "\n",
    "zbroji_float_i_broj(10,3,5, \"hej\", True, 2, \"test\", 1.5)"
   ]
  },
  {
   "cell_type": "code",
   "execution_count": 44,
   "metadata": {},
   "outputs": [
    {
     "data": {
      "text/plain": [
       "(21.5, ['hej', 'test'])"
      ]
     },
     "execution_count": 44,
     "metadata": {},
     "output_type": "execute_result"
    }
   ],
   "source": [
    "def zbroji_float_i_broj(*args):\n",
    "    lista= []\n",
    "    suma = 0\n",
    "    for arg in args:\n",
    "        if isinstance(arg,(float,int)):\n",
    "            suma = suma + arg\n",
    "        else:\n",
    "            lista.append(arg)\n",
    "    \n",
    "    return suma, lista\n",
    "\n",
    "zbroji_float_i_broj(10,3,5, \"hej\", False, 2, \"test\", 1.5)"
   ]
  },
  {
   "cell_type": "code",
   "execution_count": 53,
   "metadata": {},
   "outputs": [
    {
     "name": "stdout",
     "output_type": "stream",
     "text": [
      "Podaci o proizvodu:\n",
      "Naziv: čokolada\n",
      "Cijena: 10\n",
      "Kolicina: 2\n",
      "Akcija: True\n"
     ]
    }
   ],
   "source": [
    "def opis_proizvoda(**kwargs):\n",
    "    print(\"Podaci o proizvodu:\")\n",
    "    for kljuc, vrijednost in kwargs.items():\n",
    "        print(f\"{kljuc.capitalize()}: {vrijednost}\")\n",
    "\n",
    "opis_proizvoda(naziv=\"čokolada\", cijena=10, kolicina=2, akcija=True)"
   ]
  },
  {
   "cell_type": "code",
   "execution_count": null,
   "metadata": {},
   "outputs": [],
   "source": [
    "def opis_proizvoda(**kwargs):\n",
    "    dijelovi = []\n",
    "    for kljuc, vrijednost in kwargs.items():\n",
    "        print(f\"{kljuc.capitalize()}: {vrijednost}\")\n",
    "\n",
    "opis_proizvoda(naziv=\"čokolada\", cijena=10, kolicina=2, akcija=True)"
   ]
  },
  {
   "cell_type": "code",
   "execution_count": 56,
   "metadata": {},
   "outputs": [
    {
     "name": "stdout",
     "output_type": "stream",
     "text": [
      "Obavezni argument:  Start\n",
      "Ostali pozicijski args: (10, 20, 30)\n",
      "Keyword args: {'ime': 'Ivo', 'grad': 'Split'}\n"
     ]
    }
   ],
   "source": [
    "def procesiraj_podatke(prvi, *args, **kwargs):\n",
    "    print(\"Obavezni argument: \", prvi)\n",
    "    print(\"Ostali pozicijski args:\", args)\n",
    "    print(\"Keyword args:\", kwargs)\n",
    "\n",
    "procesiraj_podatke(\"Start\", 10,20,30, ime=\"Ivo\", grad=\"Split\")"
   ]
  },
  {
   "cell_type": "code",
   "execution_count": 59,
   "metadata": {},
   "outputs": [
    {
     "name": "stdout",
     "output_type": "stream",
     "text": [
      "Naziv predmeta:  Matematika\n"
     ]
    },
    {
     "data": {
      "text/plain": [
       "'Prosjecna ocjena: 4.5'"
      ]
     },
     "execution_count": 59,
     "metadata": {},
     "output_type": "execute_result"
    }
   ],
   "source": [
    "def prosjecna_ocjena(naziv, *args, **kwargs):\n",
    "    print(\"Naziv predmeta: \", naziv)\n",
    "    lista=[]\n",
    "    suma =0\n",
    "    for arg in args:\n",
    "        lista.append(arg)\n",
    "    suma= sum(lista)\n",
    "    \n",
    "    for kljuc, vrijednost in kwargs.items():\n",
    "        if kljuc == \"bonus\":\n",
    "            suma = suma + vrijednost\n",
    "    return f\"Prosjecna ocjena: {suma/len(lista)}\"\n",
    "\n",
    "prosjecna_ocjena(\"Matematika\", 5,4,3,5, bonus=1)\n"
   ]
  },
  {
   "cell_type": "code",
   "execution_count": null,
   "metadata": {},
   "outputs": [],
   "source": []
  },
  {
   "cell_type": "code",
   "execution_count": null,
   "metadata": {},
   "outputs": [],
   "source": []
  },
  {
   "cell_type": "code",
   "execution_count": null,
   "metadata": {},
   "outputs": [],
   "source": []
  },
  {
   "cell_type": "code",
   "execution_count": null,
   "metadata": {},
   "outputs": [],
   "source": []
  }
 ],
 "metadata": {
  "kernelspec": {
   "display_name": "Python 3",
   "language": "python",
   "name": "python3"
  },
  "language_info": {
   "codemirror_mode": {
    "name": "ipython",
    "version": 3
   },
   "file_extension": ".py",
   "mimetype": "text/x-python",
   "name": "python",
   "nbconvert_exporter": "python",
   "pygments_lexer": "ipython3",
   "version": "3.13.0"
  }
 },
 "nbformat": 4,
 "nbformat_minor": 2
}
